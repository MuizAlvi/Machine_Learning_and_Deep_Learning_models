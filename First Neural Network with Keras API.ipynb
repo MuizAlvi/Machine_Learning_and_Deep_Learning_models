{
 "cells": [
  {
   "cell_type": "markdown",
   "metadata": {},
   "source": [
    "## Problem Statement"
   ]
  },
  {
   "cell_type": "markdown",
   "metadata": {},
   "source": [
    "   An experimental drug was tested on 2100 individual in a clinical trial. The ages of participants ranged from thirteen to hundred. Half of the participants were under the age of 65 years old, the other half were 65 years or older.\n",
    "   Ninety five percent patients that were 65 years or older experienced side effects. Ninety five percent patients under 65 years experienced no side effects.\n\n",
    "   You have to build a program that takes the age of a participant as input and predicts whether this patient has suffered from a side effect or not.\n\n",
    "   Steps:\n\n",
    "       • Generate a random dataset that adheres to these statements\n",
    "       • Divide the dataset into Training (90%) and Validation (10%) set\n",
    "       • Build a Simple Sequential Model\n",
    "       • Train and Validate the Model on the dataset\n",
    "       • Randomly choose 20% data from dataset as Test set\n",
    "       • Plot predictions made by the Model on Test set\n"
   ]
  },
  {
   "cell_type": "markdown",
   "metadata": {},
   "source": [
    "## Generating Dataset"
   ]
  },
  {
   "cell_type": "code",
   "execution_count": 1,
   "metadata": {},
   "outputs": [],
   "source": [
    "import numpy as np\n",
    "from random import randint\n",
    "from sklearn.utils import shuffle\n",
    "from sklearn.preprocessing import MinMaxScaler"
   ]
  },
  {
   "cell_type": "code",
   "execution_count": 2,
   "metadata": {},
   "outputs": [],
   "source": [
    "train_labels = []     # one means side effect experienced, zero means no side effect experienced\n",
    "train_samples = []"
   ]
  },
  {
   "cell_type": "code",
   "execution_count": 3,
   "metadata": {},
   "outputs": [],
   "source": [
    "for i in range(50):\n",
    "    # The 5% of younger individuals who did experience side effects\n",
    "    random_younger = randint(13, 64)\n",
    "    train_samples.append(random_younger)\n",
    "    train_labels.append(1)\n",
    "    \n",
    "    # The 5% of older individuals who did not experience side effects\n",
    "    random_older = randint(65, 100)\n",
    "    train_samples.append(random_older)\n",
    "    train_labels.append(0)\n",
    "    \n",
    "\n",
    "for i in range(1000):\n",
    "    # The 95% of younger individuals who did not experience side effects\n",
    "    random_younger = randint(13, 64)\n",
    "    train_samples.append(random_younger)\n",
    "    train_labels.append(0)\n",
    "\n",
    "    # The 95% of older individuals who did experience side effects\n",
    "    random_older = randint(65, 100)\n",
    "    train_samples.append(random_older)\n",
    "    train_labels.append(1)"
   ]
  },
  {
   "cell_type": "code",
   "execution_count": 5,
   "metadata": {},
   "outputs": [],
   "source": [
    "train_labels = np.array(train_labels)\n",
    "train_samples = np.array(train_samples)\n",
    "train_labels, train_samples = shuffle(train_labels, train_samples)  # randomly shuffles each individual array, removing any order imposed on the data set during the creation process"
   ]
  },
  {
   "cell_type": "code",
   "execution_count": 6,
   "metadata": {},
   "outputs": [],
   "source": [
    "scaler = MinMaxScaler(feature_range = (0, 1)) # specifying scale (range: 0 to 1)\n",
    "scaled_train_samples = scaler.fit_transform(train_samples.reshape(-1,1)) # transforms our data scale (range: 13 to 100) into the one specified above (range: 0 to 1), we use the reshape fucntion as fit_transform doesnot accept 1-D data by default hence we need to reshape accordingly here"
   ]
  },
  {
   "cell_type": "markdown",
   "metadata": {},
   "source": [
    "## Building a Sequential Model"
   ]
  },
  {
   "cell_type": "code",
   "execution_count": 8,
   "metadata": {},
   "outputs": [],
   "source": [
    "import tensorflow as tf\n",
    "from tensorflow import keras\n",
    "from tensorflow.keras.models import Sequential\n",
    "from tensorflow.keras.layers import Activation, Dense\n",
    "from tensorflow.keras.optimizers import Adam\n",
    "from tensorflow.keras.metrics import categorical_crossentropy"
   ]
  },
  {
   "cell_type": "code",
   "execution_count": 9,
   "metadata": {},
   "outputs": [],
   "source": [
    "model = Sequential([\n",
    "    Dense(units = 16, input_shape = (1,), activation = 'relu'), \n",
    "    Dense(units = 32, activation = 'relu'), \n",
    "    Dense(units = 2, activation = 'softmax')\n",
    "])"
   ]
  },
  {
   "cell_type": "code",
   "execution_count": 10,
   "metadata": {},
   "outputs": [
    {
     "name": "stdout",
     "output_type": "stream",
     "text": [
      "Model: \"sequential\"\n",
      "_________________________________________________________________\n",
      "Layer (type)                 Output Shape              Param #   \n",
      "=================================================================\n",
      "dense (Dense)                (None, 16)                32        \n",
      "_________________________________________________________________\n",
      "dense_1 (Dense)              (None, 32)                544       \n",
      "_________________________________________________________________\n",
      "dense_2 (Dense)              (None, 2)                 66        \n",
      "=================================================================\n",
      "Total params: 642\n",
      "Trainable params: 642\n",
      "Non-trainable params: 0\n",
      "_________________________________________________________________\n"
     ]
    }
   ],
   "source": [
    "model.summary()"
   ]
  },
  {
   "cell_type": "markdown",
   "metadata": {},
   "source": [
    "## Training the Model"
   ]
  },
  {
   "cell_type": "code",
   "execution_count": 11,
   "metadata": {},
   "outputs": [],
   "source": [
    "model.compile(optimizer = Adam(learning_rate = 0.0001), loss = 'sparse_categorical_crossentropy', metrics = ['accuracy'])"
   ]
  },
  {
   "cell_type": "code",
   "execution_count": 12,
   "metadata": {},
   "outputs": [
    {
     "name": "stdout",
     "output_type": "stream",
     "text": [
      "Train on 1890 samples, validate on 210 samples\n",
      "Epoch 1/30\n",
      "1890/1890 - 1s - loss: 0.6592 - accuracy: 0.5185 - val_loss: 0.6448 - val_accuracy: 0.6286\n",
      "Epoch 2/30\n",
      "1890/1890 - 0s - loss: 0.6384 - accuracy: 0.6386 - val_loss: 0.6158 - val_accuracy: 0.7143\n",
      "Epoch 3/30\n",
      "1890/1890 - 0s - loss: 0.6057 - accuracy: 0.7169 - val_loss: 0.5762 - val_accuracy: 0.7714\n",
      "Epoch 4/30\n",
      "1890/1890 - 1s - loss: 0.5608 - accuracy: 0.7926 - val_loss: 0.5317 - val_accuracy: 0.8143\n",
      "Epoch 5/30\n",
      "1890/1890 - 1s - loss: 0.5175 - accuracy: 0.8323 - val_loss: 0.4916 - val_accuracy: 0.8429\n",
      "Epoch 6/30\n",
      "1890/1890 - 1s - loss: 0.4809 - accuracy: 0.8487 - val_loss: 0.4575 - val_accuracy: 0.8714\n",
      "Epoch 7/30\n",
      "1890/1890 - 1s - loss: 0.4479 - accuracy: 0.8704 - val_loss: 0.4276 - val_accuracy: 0.8714\n",
      "Epoch 8/30\n",
      "1890/1890 - 1s - loss: 0.4188 - accuracy: 0.8751 - val_loss: 0.4009 - val_accuracy: 0.8762\n",
      "Epoch 9/30\n",
      "1890/1890 - 1s - loss: 0.3927 - accuracy: 0.8852 - val_loss: 0.3784 - val_accuracy: 0.8905\n",
      "Epoch 10/30\n",
      "1890/1890 - 1s - loss: 0.3705 - accuracy: 0.9005 - val_loss: 0.3587 - val_accuracy: 0.9000\n",
      "Epoch 11/30\n",
      "1890/1890 - 0s - loss: 0.3514 - accuracy: 0.9095 - val_loss: 0.3427 - val_accuracy: 0.9000\n",
      "Epoch 12/30\n",
      "1890/1890 - 1s - loss: 0.3353 - accuracy: 0.9079 - val_loss: 0.3287 - val_accuracy: 0.9143\n",
      "Epoch 13/30\n",
      "1890/1890 - 0s - loss: 0.3222 - accuracy: 0.9111 - val_loss: 0.3175 - val_accuracy: 0.9143\n",
      "Epoch 14/30\n",
      "1890/1890 - 1s - loss: 0.3110 - accuracy: 0.9164 - val_loss: 0.3085 - val_accuracy: 0.9143\n",
      "Epoch 15/30\n",
      "1890/1890 - 0s - loss: 0.3019 - accuracy: 0.9190 - val_loss: 0.3011 - val_accuracy: 0.9190\n",
      "Epoch 16/30\n",
      "1890/1890 - 0s - loss: 0.2944 - accuracy: 0.9217 - val_loss: 0.2949 - val_accuracy: 0.9190\n",
      "Epoch 17/30\n",
      "1890/1890 - 0s - loss: 0.2880 - accuracy: 0.9222 - val_loss: 0.2893 - val_accuracy: 0.9286\n",
      "Epoch 18/30\n",
      "1890/1890 - 0s - loss: 0.2827 - accuracy: 0.9265 - val_loss: 0.2848 - val_accuracy: 0.9286\n",
      "Epoch 19/30\n",
      "1890/1890 - 0s - loss: 0.2781 - accuracy: 0.9307 - val_loss: 0.2825 - val_accuracy: 0.9286\n",
      "Epoch 20/30\n",
      "1890/1890 - 0s - loss: 0.2746 - accuracy: 0.9291 - val_loss: 0.2793 - val_accuracy: 0.9286\n",
      "Epoch 21/30\n",
      "1890/1890 - 0s - loss: 0.2714 - accuracy: 0.9270 - val_loss: 0.2760 - val_accuracy: 0.9333\n",
      "Epoch 22/30\n",
      "1890/1890 - 0s - loss: 0.2688 - accuracy: 0.9296 - val_loss: 0.2740 - val_accuracy: 0.9333\n",
      "Epoch 23/30\n",
      "1890/1890 - 0s - loss: 0.2663 - accuracy: 0.9344 - val_loss: 0.2731 - val_accuracy: 0.9286\n",
      "Epoch 24/30\n",
      "1890/1890 - 0s - loss: 0.2645 - accuracy: 0.9302 - val_loss: 0.2707 - val_accuracy: 0.9333\n",
      "Epoch 25/30\n",
      "1890/1890 - 1s - loss: 0.2627 - accuracy: 0.9302 - val_loss: 0.2689 - val_accuracy: 0.9333\n",
      "Epoch 26/30\n",
      "1890/1890 - 0s - loss: 0.2612 - accuracy: 0.9354 - val_loss: 0.2682 - val_accuracy: 0.9286\n",
      "Epoch 27/30\n",
      "1890/1890 - 0s - loss: 0.2597 - accuracy: 0.9333 - val_loss: 0.2667 - val_accuracy: 0.9333\n",
      "Epoch 28/30\n",
      "1890/1890 - 0s - loss: 0.2585 - accuracy: 0.9328 - val_loss: 0.2653 - val_accuracy: 0.9333\n",
      "Epoch 29/30\n",
      "1890/1890 - 0s - loss: 0.2572 - accuracy: 0.9365 - val_loss: 0.2640 - val_accuracy: 0.9333\n",
      "Epoch 30/30\n",
      "1890/1890 - 0s - loss: 0.2562 - accuracy: 0.9370 - val_loss: 0.2630 - val_accuracy: 0.9333\n"
     ]
    },
    {
     "data": {
      "text/plain": [
       "<tensorflow.python.keras.callbacks.History at 0x17d7bdd3dc8>"
      ]
     },
     "execution_count": 12,
     "metadata": {},
     "output_type": "execute_result"
    }
   ],
   "source": [
    "model.fit(x = scaled_train_samples, y = train_labels, validation_split = 0.1, batch_size = 10, epochs = 30, shuffle = True, verbose = 2)"
   ]
  },
  {
   "cell_type": "markdown",
   "metadata": {},
   "source": [
    "## Preprocessing Test Data"
   ]
  },
  {
   "cell_type": "code",
   "execution_count": 13,
   "metadata": {},
   "outputs": [],
   "source": [
    "test_labels = []\n",
    "test_samples = []"
   ]
  },
  {
   "cell_type": "code",
   "execution_count": 14,
   "metadata": {},
   "outputs": [],
   "source": [
    "for i in range(10):\n",
    "    # The 5% of younger individuals who did experience side effects\n",
    "    random_younger = randint(13, 64)\n",
    "    test_samples.append(random_younger)\n",
    "    test_labels.append(1)\n",
    "    \n",
    "    # The 5% of older individuals who did not experience side effects\n",
    "    random_older = randint(65, 100)\n",
    "    test_samples.append(random_older)\n",
    "    test_labels.append(0)\n",
    "    \n",
    "\n",
    "for i in range(200):\n",
    "    # The 95% of younger individuals who did not experience side effects\n",
    "    random_younger = randint(13, 64)\n",
    "    test_samples.append(random_younger)\n",
    "    test_labels.append(0)\n",
    "\n",
    "    # The 95% of older individuals who did experience side effects\n",
    "    random_older = randint(65, 100)\n",
    "    test_samples.append(random_older)\n",
    "    test_labels.append(1)"
   ]
  },
  {
   "cell_type": "code",
   "execution_count": 15,
   "metadata": {},
   "outputs": [],
   "source": [
    "test_labels = np.array(test_labels)\n",
    "test_samples = np.array(test_samples)\n",
    "test_labels, test_samples = shuffle(test_labels, test_samples)"
   ]
  },
  {
   "cell_type": "code",
   "execution_count": 16,
   "metadata": {},
   "outputs": [],
   "source": [
    "scaled_test_samples = scaler.fit_transform(test_samples.reshape(-1,1))"
   ]
  },
  {
   "cell_type": "markdown",
   "metadata": {},
   "source": [
    "## Testing the Model using Predictions "
   ]
  },
  {
   "cell_type": "code",
   "execution_count": 17,
   "metadata": {},
   "outputs": [],
   "source": [
    "predictions = model.predict(x = scaled_test_samples, batch_size = 10, verbose = 0)"
   ]
  },
  {
   "cell_type": "code",
   "execution_count": 19,
   "metadata": {},
   "outputs": [],
   "source": [
    "rounded_predictions = np.argmax(predictions, axis = -1)"
   ]
  },
  {
   "cell_type": "markdown",
   "metadata": {},
   "source": [
    "## Preparing Confusion Matrix"
   ]
  },
  {
   "cell_type": "code",
   "execution_count": 21,
   "metadata": {},
   "outputs": [],
   "source": [
    "from sklearn.metrics import confusion_matrix\n",
    "import itertools\n",
    "import matplotlib.pyplot as plt"
   ]
  },
  {
   "cell_type": "code",
   "execution_count": 22,
   "metadata": {},
   "outputs": [],
   "source": [
    "cm = confusion_matrix(y_true = test_labels, y_pred = rounded_predictions)"
   ]
  },
  {
   "cell_type": "code",
   "execution_count": 23,
   "metadata": {},
   "outputs": [],
   "source": [
    "# This function has been taken from the website of scikit Learn. link: https://scikit-learn.org/0.18/auto_examples/model_selection/plot_confusion_matrix.html\n",
    "def plot_confusion_matrix(cm, classes,\n",
    "                          normalize=False,\n",
    "                          title='Confusion matrix',\n",
    "                          cmap=plt.cm.Blues):\n",
    "    \"\"\"\n",
    "    This function prints and plots the confusion matrix.\n",
    "    Normalization can be applied by setting `normalize=True`.\n",
    "    \"\"\"\n",
    "    plt.imshow(cm, interpolation='nearest', cmap=cmap)\n",
    "    plt.title(title)\n",
    "    plt.colorbar()\n",
    "    tick_marks = np.arange(len(classes))\n",
    "    plt.xticks(tick_marks, classes, rotation=45)\n",
    "    plt.yticks(tick_marks, classes)\n",
    "\n",
    "    if normalize:\n",
    "        cm = cm.astype('float') / cm.sum(axis=1)[:, np.newaxis]\n",
    "        print(\"Normalized confusion matrix\")\n",
    "    else:\n",
    "        print('Confusion matrix, without normalization')\n",
    "\n",
    "    print(cm)\n",
    "\n",
    "    thresh = cm.max() / 2.\n",
    "    for i, j in itertools.product(range(cm.shape[0]), range(cm.shape[1])):\n",
    "        plt.text(j, i, cm[i, j],\n",
    "                 horizontalalignment=\"center\",\n",
    "                 color=\"white\" if cm[i, j] > thresh else \"black\")\n",
    "\n",
    "    plt.tight_layout()\n",
    "    plt.ylabel('True label')\n",
    "    plt.xlabel('Predicted label')"
   ]
  },
  {
   "cell_type": "markdown",
   "metadata": {},
   "source": [
    "## Plotting Predictions using Confusion Matrix"
   ]
  },
  {
   "cell_type": "code",
   "execution_count": 24,
   "metadata": {},
   "outputs": [
    {
     "name": "stdout",
     "output_type": "stream",
     "text": [
      "Confusion matrix, without normalization\n",
      "[[193  17]\n",
      " [ 10 200]]\n"
     ]
    },
    {
     "data": {
      "image/png": "[encoded data removed]",
      "text/plain": [
       "<Figure size 432x288 with 2 Axes>"
      ]
     },
     "metadata": {
      "needs_background": "light"
     },
     "output_type": "display_data"
    }
   ],
   "source": [
    "cm_plot_labels = ['no_side_effects', 'had_side_effects']\n",
    "plot_confusion_matrix(cm = cm, classes = cm_plot_labels, title = 'Confusion Matrix')"
   ]
  }
 ],
 "metadata": {
  "kernelspec": {
   "display_name": "Python 3",
   "language": "python",
   "name": "python3"
  },
  "language_info": {
   "codemirror_mode": {
    "name": "ipython",
    "version": 3
   },
   "file_extension": ".py",
   "mimetype": "text/x-python",
   "name": "python",
   "nbconvert_exporter": "python",
   "pygments_lexer": "ipython3",
   "version": "3.7.7"
  }
 },
 "nbformat": 4,
 "nbformat_minor": 4
}
